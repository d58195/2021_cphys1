{
 "cells": [
  {
   "cell_type": "markdown",
   "metadata": {},
   "source": [
    "로지스틱 맵은 다음처럼 주어진다.$$ f_{n+1} = r f_n (1- f_n). $$\n",
    "\n",
    "주어진 $r$과 초기조건 $f_0$에 대해, 반복문(while or for)을 이용해서 $n$이 1~10일 때 $f_n$을 구하여라."
   ]
  },
  {
   "cell_type": "markdown",
   "metadata": {},
   "source": [
    "1. $$ r = 0.5, f_0 = 0.5 $$"
   ]
  },
  {
   "cell_type": "code",
   "execution_count": 3,
   "metadata": {},
   "outputs": [
    {
     "name": "stdout",
     "output_type": "stream",
     "text": [
      "0.125\n",
      "0.0546875\n",
      "0.025848388671875\n",
      "0.012590124737471342\n",
      "0.006215806748283127\n",
      "0.0030885852473755623\n",
      "0.0015395229442726282\n",
      "0.0007685764066883431\n",
      "0.00038399284849771257\n",
      "0.0001919226989950076\n"
     ]
    }
   ],
   "source": [
    "n = [1,2,3,4,5,6,7,8,9,10]\n",
    "r = 0.5\n",
    "f_n = 0.5\n",
    "\n",
    "for i in n:\n",
    "    f_n = r*f_n*(1-f_n)\n",
    "    print(f_n)"
   ]
  },
  {
   "cell_type": "markdown",
   "metadata": {},
   "source": [
    "2. $$ r = 2.5, f_0 = 0.5 $$"
   ]
  },
  {
   "cell_type": "code",
   "execution_count": 1,
   "metadata": {},
   "outputs": [
    {
     "name": "stdout",
     "output_type": "stream",
     "text": [
      "0.625\n",
      "0.5859375\n",
      "0.606536865234375\n",
      "0.5966247408650815\n",
      "0.6016591486318896\n",
      "0.5991635437485985\n",
      "0.6004164789780495\n",
      "0.5997913268741273\n",
      "0.6001042277017528\n",
      "0.599947858990589\n"
     ]
    }
   ],
   "source": [
    "f_n = 0.5\n",
    "r = 2.5\n",
    "\n",
    "for n in range(10):\n",
    "    f_n = r*f_n*(1-f_n)\n",
    "    print(f_n)"
   ]
  },
  {
   "cell_type": "markdown",
   "metadata": {},
   "source": [
    "3. $$ r = 4.5, f_0 = 0.5 $$"
   ]
  },
  {
   "cell_type": "code",
   "execution_count": 4,
   "metadata": {},
   "outputs": [
    {
     "name": "stdout",
     "output_type": "stream",
     "text": [
      "1.125\n",
      "-0.6328125\n",
      "-4.649688720703125\n",
      "-118.21182264061645\n",
      "-63415.11075595729\n",
      "-18096928592.854885\n",
      "-1.4737447103084353e+21\n",
      "-9.773655620229423e+42\n",
      "-4.298595488227898e+86\n",
      "-8.315065427135959e+173\n"
     ]
    }
   ],
   "source": [
    "f_n = 0.5\n",
    "r = 4.5\n",
    "n = 0\n",
    "x = 10\n",
    "\n",
    "while(n<x):\n",
    "    n = n+1\n",
    "    f_n = r*f_n*(1-f_n)\n",
    "    print(f_n)"
   ]
  },
  {
   "cell_type": "markdown",
   "metadata": {},
   "source": [
    "4. $$ r = 4.5, f_0 = 0.51 $$"
   ]
  },
  {
   "cell_type": "code",
   "execution_count": 6,
   "metadata": {},
   "outputs": [
    {
     "name": "stdout",
     "output_type": "stream",
     "text": [
      "1.12455\n",
      "-0.6302821612499996\n",
      "-4.623919938179865\n",
      "-117.0204998979472\n",
      "-62148.68053318534\n",
      "-17381342883.134087\n",
      "-1.359499861973058e+21\n",
      "-8.317079436171436e+42\n",
      "-3.11282146564136e+86\n",
      "-4.360345864630932e+173\n"
     ]
    }
   ],
   "source": [
    "f_n = 0.51\n",
    "r = 4.5\n",
    "n = 0\n",
    "\n",
    "while(n<10):\n",
    "    n = n+1\n",
    "    f_n = r*f_n*(1-f_n)\n",
    "    print(f_n)"
   ]
  },
  {
   "cell_type": "code",
   "execution_count": null,
   "metadata": {},
   "outputs": [],
   "source": []
  }
 ],
 "metadata": {
  "kernelspec": {
   "display_name": "Python 3",
   "language": "python",
   "name": "python3"
  },
  "language_info": {
   "codemirror_mode": {
    "name": "ipython",
    "version": 3
   },
   "file_extension": ".py",
   "mimetype": "text/x-python",
   "name": "python",
   "nbconvert_exporter": "python",
   "pygments_lexer": "ipython3",
   "version": "3.8.5"
  }
 },
 "nbformat": 4,
 "nbformat_minor": 4
}
