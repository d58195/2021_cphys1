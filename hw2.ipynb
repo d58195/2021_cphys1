{
 "cells": [
  {
   "cell_type": "markdown",
   "metadata": {},
   "source": [
    "## Logistic Map (part 2)"
   ]
  },
  {
   "cell_type": "markdown",
   "metadata": {},
   "source": [
    "로지스틱 맵은 다음처럼 주어진다.$$ f_{n+1} = r f_n (1- f_n). $$\n",
    "\n",
    "주어진 $r$과 초기조건 $f_0$에 대해 $f_n$을 다음의 과정을 통해 구하여라."
   ]
  },
  {
   "cell_type": "markdown",
   "metadata": {},
   "source": [
    "1. $f_n$을 구하는 함수를 작성하여라.\n",
    "2. 작성한 함수를 이용하여 다음의 조건에서 $n=1$에서 $20$까지 로지스틱 맵의 값을 구하여라.\n",
    "$r=4.5$, $f_0$=0.5\n",
    "$r=4.5$, $f_0$=0.51\n",
    "$r=4.5$, $f_0$=0.501"
   ]
  },
  {
   "cell_type": "code",
   "execution_count": 26,
   "metadata": {},
   "outputs": [],
   "source": [
    "def logistic_map(r,f,n):\n",
    "    l=[]\n",
    "    for i in range(1,n+1):\n",
    "        f=r*f*(1-f)\n",
    "        l.append(f)\n",
    "    print(l) "
   ]
  },
  {
   "cell_type": "code",
   "execution_count": 27,
   "metadata": {},
   "outputs": [
    {
     "name": "stdout",
     "output_type": "stream",
     "text": [
      "[1.125, -0.6328125, -4.649688720703125, -118.21182264061645, -63415.11075595729, -18096928592.854885, -1.4737447103084353e+21, -9.773655620229423e+42, -4.298595488227898e+86, -8.315065427135959e+173, -inf, -inf, -inf, -inf, -inf, -inf, -inf, -inf, -inf, -inf]\n"
     ]
    }
   ],
   "source": [
    "logistic_map(4.5,0.5,20)"
   ]
  },
  {
   "cell_type": "code",
   "execution_count": 28,
   "metadata": {},
   "outputs": [
    {
     "name": "stdout",
     "output_type": "stream",
     "text": [
      "[1.12455, -0.6302821612499996, -4.623919938179865, -117.0204998979472, -62148.68053318534, -17381342883.134087, -1.359499861973058e+21, -8.317079436171436e+42, -3.11282146564136e+86, -4.360345864630932e+173, -inf, -inf, -inf, -inf, -inf, -inf, -inf, -inf, -inf, -inf]\n"
     ]
    }
   ],
   "source": [
    "logistic_map(4.5,0.51,20)"
   ]
  },
  {
   "cell_type": "code",
   "execution_count": 29,
   "metadata": {},
   "outputs": [
    {
     "name": "stdout",
     "output_type": "stream",
     "text": [
      "[1.1249955, -0.6327871875911253, -4.649430655667751, -118.19986234888862, -63402.33294740298, -18089636514.7783, -1.4725572716470052e+21, -9.757912132262123e+42, -4.2847582131426745e+86, -8.261618825292122e+173, -inf, -inf, -inf, -inf, -inf, -inf, -inf, -inf, -inf, -inf]\n"
     ]
    }
   ],
   "source": [
    "logistic_map(4.5,0.501,20)"
   ]
  },
  {
   "cell_type": "markdown",
   "metadata": {},
   "source": [
    "## 피보나치 수 (Fibonacci numbers)"
   ]
  },
  {
   "cell_type": "markdown",
   "metadata": {},
   "source": [
    "피보나치 수(Fibonacci numbers)는 처음 두 개의 항이 1이며 그 뒤의 모든 항은 앞의 두 개의 항의 합으로 주어지는 수열이다. 따라서 다음처럼 주어지는 수열이다.\n",
    "\n",
    "$$1, 1, 2, 3, 5, 8, \\cdots$$\n",
    "$n$번째 피보나치 수 $F_n$은 다음의 식으로 구할 수 있다. $F_1=F_2=1$, $F_n=F_{n-1}+F_{n-2}$, ($n \\in \\{3,4,\\cdots \\} $)\n",
    "\n",
    "$n$번째 피보나치 수를 구하는 함수를 프로그래밍하여라."
   ]
  },
  {
   "cell_type": "code",
   "execution_count": 31,
   "metadata": {},
   "outputs": [],
   "source": [
    "def Fibonacci_numbers(n):\n",
    "    l=[]\n",
    "    \n",
    "    for i in range(n):\n",
    "        if i <=1:\n",
    "            l.append(1)\n",
    "        else:\n",
    "            k=l[i-2]+l[i-1]\n",
    "            l.append(k)  \n",
    "    print(l[n-1])"
   ]
  },
  {
   "cell_type": "code",
   "execution_count": 32,
   "metadata": {},
   "outputs": [
    {
     "name": "stdout",
     "output_type": "stream",
     "text": [
      "8\n"
     ]
    }
   ],
   "source": [
    "Fibonacci_numbers(6)"
   ]
  }
 ],
 "metadata": {
  "kernelspec": {
   "display_name": "Python 3",
   "language": "python",
   "name": "python3"
  },
  "language_info": {
   "codemirror_mode": {
    "name": "ipython",
    "version": 3
   },
   "file_extension": ".py",
   "mimetype": "text/x-python",
   "name": "python",
   "nbconvert_exporter": "python",
   "pygments_lexer": "ipython3",
   "version": "3.8.5"
  }
 },
 "nbformat": 4,
 "nbformat_minor": 4
}
