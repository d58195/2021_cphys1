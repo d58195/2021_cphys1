{
 "cells": [
  {
   "cell_type": "markdown",
   "metadata": {},
   "source": [
    "# Pauli Matrices"
   ]
  },
  {
   "cell_type": "markdown",
   "metadata": {},
   "source": [
    "파울리 행렬의 아이겐밸류와 아이겐벡터를 구하시오.\n",
    "\n",
    "$$ s_x = \\begin{pmatrix} 0 &amp; 1 \\\\ 1 &amp; 0 \\end{pmatrix}, \\quad\n",
    "s_y = \\begin{pmatrix} 0 &amp; -j \\\\ j &amp ; 0 \\end{pmatrix}, \\quad\n",
    "s_z  = \\begin{pmatrix} 1 &amp; 0 \\\\ 0 &amp ; -1 \\end{pmatrix}. $$"
   ]
  },
  {
   "cell_type": "code",
   "execution_count": 1,
   "metadata": {},
   "outputs": [],
   "source": [
    "%matplotlib inline\n",
    "import matplotlib.pyplot as plt\n",
    "import numpy as np\n",
    "import math"
   ]
  },
  {
   "cell_type": "code",
   "execution_count": 21,
   "metadata": {},
   "outputs": [
    {
     "data": {
      "text/plain": [
       "(array([ 1., -1.]),\n",
       " array([[ 0.70710678, -0.70710678],\n",
       "        [ 0.70710678,  0.70710678]]))"
      ]
     },
     "execution_count": 21,
     "metadata": {},
     "output_type": "execute_result"
    }
   ],
   "source": [
    "s_x = np.array([[0,1],[1,0]])\n",
    "es_x = np.linalg.eig(s_x)\n",
    "\n",
    "es_x"
   ]
  },
  {
   "cell_type": "code",
   "execution_count": 29,
   "metadata": {},
   "outputs": [
    {
     "data": {
      "text/plain": [
       "(array([ 1.+0.j, -1.+0.j]),\n",
       " array([[0.        +0.70710678j, 0.70710678+0.j        ],\n",
       "        [0.70710678+0.j        , 0.        +0.70710678j]]))"
      ]
     },
     "execution_count": 29,
     "metadata": {},
     "output_type": "execute_result"
    }
   ],
   "source": [
    "a = 1j\n",
    "s_y = np.array([[0,a],[-a,0]])\n",
    "es_y = np.linalg.eig(s_y)\n",
    "\n",
    "es_y"
   ]
  },
  {
   "cell_type": "code",
   "execution_count": 30,
   "metadata": {},
   "outputs": [
    {
     "data": {
      "text/plain": [
       "(array([ 1., -1.]),\n",
       " array([[1., 0.],\n",
       "        [0., 1.]]))"
      ]
     },
     "execution_count": 30,
     "metadata": {},
     "output_type": "execute_result"
    }
   ],
   "source": [
    "s_z = np.array([[1,0],[0,-1]])\n",
    "es_z = np.linalg.eig(s_z)\n",
    "\n",
    "es_z"
   ]
  },
  {
   "cell_type": "markdown",
   "metadata": {},
   "source": [
    "# Normal Modes"
   ]
  },
  {
   "cell_type": "markdown",
   "metadata": {},
   "source": [
    "(고전역학 by Thornton & Marion 챕터 12.2 및 예제 12.3 참조) 용수철 상수가 $k$인 용수철에 연결된 두 개의 물체의 노말 모드를 구해보자. 두 개의 물체의 운동방정식은 다음으로 주어진다.$$ -m w^2 x_1 = -2kx_1 +k x_2, \\\\\n",
    "-m w^2 x_2 = k x_1 - 2 k x_2.$$eigenfrequencies $w$는 다음의 행렬식을 통해 구할 수 있다.$$ \\frac{k}{m w^2} \\begin{pmatrix} 2 &amp; -1 \\\\ -1 &amp; 2 \\end{pmatrix} \n",
    "\\begin{pmatrix} x_1 \\\\ x_2 \\end{pmatrix}=\n",
    "\\lambda \\begin{pmatrix} x_1 \\\\ x_2 \\end{pmatrix} $$"
   ]
  },
  {
   "cell_type": "code",
   "execution_count": 3,
   "metadata": {},
   "outputs": [
    {
     "data": {
      "text/plain": [
       "(array([3., 1.]),\n",
       " array([[ 0.70710678,  0.70710678],\n",
       "        [-0.70710678,  0.70710678]]))"
      ]
     },
     "execution_count": 3,
     "metadata": {},
     "output_type": "execute_result"
    }
   ],
   "source": [
    "w = np.array([[2,-1],[-1,2]])\n",
    "eigenvector_w = np.linalg.eig(w)\n",
    "\n",
    "eigenvector_w"
   ]
  },
  {
   "cell_type": "markdown",
   "metadata": {},
   "source": [
    "따라서 eigenfrequencies는$$ w_1 = \\sqrt{\\frac{k}{m}}, \\quad w_2 = \\sqrt{\\frac{3k}{m}}. $$\n",
    "\n",
    "위에서 구한 아이겐벡터와 아이겐밸류의 의미를 설명하여라."
   ]
  },
  {
   "cell_type": "markdown",
   "metadata": {},
   "source": [
    "위에서 볼 수 있다시피 아이겐벡터의 값은 3과 1이 나오는 것을 볼 수 있다.\n",
    "3일 때는 같은 크기지만 방향이 다름을 볼 수있고,\n",
    "1일 때는 같은 크기에 같은 방향임을 볼 수 있다.\n",
    "그러므로 아에겐벡터로 운동하는 물체의 크기와 방향을 알 수 있다."
   ]
  }
 ],
 "metadata": {
  "kernelspec": {
   "display_name": "Python 3",
   "language": "python",
   "name": "python3"
  },
  "language_info": {
   "codemirror_mode": {
    "name": "ipython",
    "version": 3
   },
   "file_extension": ".py",
   "mimetype": "text/x-python",
   "name": "python",
   "nbconvert_exporter": "python",
   "pygments_lexer": "ipython3",
   "version": "3.8.5"
  }
 },
 "nbformat": 4,
 "nbformat_minor": 4
}
